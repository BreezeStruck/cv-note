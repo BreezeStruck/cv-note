{
 "cells": [
  {
   "cell_type": "code",
   "execution_count": 19,
   "id": "dd53a7f4-c9c3-4d21-b803-eb7027c5e125",
   "metadata": {},
   "outputs": [],
   "source": [
    "import cv2\n",
    "import matplotlib.pyplot as plt\n",
    "import numpy as np\n",
    "%matplotlib inline\n",
    "def show_img(img):\n",
    "    cv2.imshow('test', img)\n",
    "    cv2.waitKey(0)\n",
    "    cv2.destroyAllWindows()\n",
    "cat = cv2.imread('cat-noise.png')\n",
    "show_img(cat)"
   ]
  },
  {
   "cell_type": "code",
   "execution_count": 20,
   "id": "94667f83-814c-4936-8cc1-ab491999f9d0",
   "metadata": {},
   "outputs": [],
   "source": [
    "# 均值滤波\n",
    "cat_avg = cv2.blur(cat, (3,3))\n",
    "res1 = np.hstack((cat,cat_avg))\n",
    "show_img(res1)"
   ]
  },
  {
   "cell_type": "code",
   "execution_count": 22,
   "id": "257e6f7d-f5ab-4679-82ba-e5c44d8e7bb4",
   "metadata": {},
   "outputs": [],
   "source": [
    "# Gauss滤波\n",
    "cat_gaus_blur = cv2.GaussianBlur(cat, (5, 5), 1)\n",
    "res2 = np.hstack((cat, cat_gaus_blur))\n",
    "show_img(res2)"
   ]
  },
  {
   "cell_type": "code",
   "execution_count": 15,
   "id": "46151e40-d6ff-489b-9ecb-c785b592ddc0",
   "metadata": {},
   "outputs": [],
   "source": [
    "cat_med_blur = cv2.medianBlur(cat, 7)\n",
    "res3 = np.hstack((cat, cat_med_blur))\n",
    "show_img(res3)"
   ]
  },
  {
   "cell_type": "code",
   "execution_count": 34,
   "id": "80887f73-a0a9-47c3-a9bb-c874ced6272f",
   "metadata": {},
   "outputs": [],
   "source": [
    "# 截断阈值 - 阈值操作\n",
    "_, cat1 = cv2.threshold(cv2.cvtColor(cat, cv2.COLOR_BGR2GRAY), 127, 255, cv2.THRESH_TOZERO)\n",
    "show_img(cat1)"
   ]
  },
  {
   "cell_type": "code",
   "execution_count": 42,
   "id": "c48f1504-fabd-45c1-a84f-d7b459824e0d",
   "metadata": {},
   "outputs": [],
   "source": [
    "gray_cat = cv2.cvtColor(cat, cv2.COLOR_BGR2GRAY)\n",
    "show_img(gray_cat)\n",
    "# 二值化\n",
    "_, b_gray_cat = cv2.threshold(gray_cat, 127, 255, cv2.THRESH_BINARY)\n",
    "# 腐蚀\n",
    "erode_cat = cv2.erode(b_gray_cat, np.ones((5,5), np.uint8), iterations=2)\n",
    "res = np.hstack((b_gray_cat, erode_cat))\n",
    "show_img(res)"
   ]
  },
  {
   "cell_type": "code",
   "execution_count": 43,
   "id": "9eea4125-53cf-4ddc-bf4f-f9054ce5479f",
   "metadata": {},
   "outputs": [],
   "source": [
    "gray_cat = cv2.cvtColor(cat, cv2.COLOR_BGR2GRAY)\n",
    "# 二值化\n",
    "_, b_gray_cat = cv2.threshold(gray_cat, 127, 255, cv2.THRESH_BINARY)\n",
    "# 膨胀\n",
    "dil1 = cv2.dilate(b_gray_cat, np.ones((3,3), np.uint8), iterations=1)\n",
    "show_img(np.hstack((b_gray_cat, dil1)))"
   ]
  },
  {
   "cell_type": "code",
   "execution_count": 52,
   "id": "f70f9f39-db6a-4feb-9726-2d848cdda284",
   "metadata": {},
   "outputs": [],
   "source": [
    "# 形态学黑帽\n",
    "black_hat = cv2.morphologyEx(b_gray_cat, cv2.MORPH_BLACKHAT, np.ones((3, 3), np.uint8))\n",
    "show_img(np.hstack((b_gray_cat, black_hat)))"
   ]
  },
  {
   "cell_type": "code",
   "execution_count": null,
   "id": "fec0b46c-4226-4640-9321-35aa394a7e17",
   "metadata": {},
   "outputs": [],
   "source": []
  }
 ],
 "metadata": {
  "kernelspec": {
   "display_name": "Python 3 (ipykernel)",
   "language": "python",
   "name": "python3"
  },
  "language_info": {
   "codemirror_mode": {
    "name": "ipython",
    "version": 3
   },
   "file_extension": ".py",
   "mimetype": "text/x-python",
   "name": "python",
   "nbconvert_exporter": "python",
   "pygments_lexer": "ipython3",
   "version": "3.13.5"
  }
 },
 "nbformat": 4,
 "nbformat_minor": 5
}
