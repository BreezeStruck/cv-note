{
 "cells": [
  {
   "cell_type": "code",
   "execution_count": 2,
   "id": "a30f6dfa-b3f0-4438-9e46-b12412f1c067",
   "metadata": {
    "collapsed": true,
    "jupyter": {
     "outputs_hidden": true
    }
   },
   "outputs": [
    {
     "name": "stdout",
     "output_type": "stream",
     "text": [
      "[[[255 255 255]\n",
      "  [255 255 255]\n",
      "  [255 255 255]\n",
      "  ...\n",
      "  [255 255 255]\n",
      "  [255 255 255]\n",
      "  [255 255 255]]\n",
      "\n",
      " [[255 255 255]\n",
      "  [255 255 255]\n",
      "  [255 255 255]\n",
      "  ...\n",
      "  [255 255 255]\n",
      "  [255 255 255]\n",
      "  [255 255 255]]\n",
      "\n",
      " [[255 255 255]\n",
      "  [255 255 255]\n",
      "  [255 255 255]\n",
      "  ...\n",
      "  [255 255 255]\n",
      "  [255 255 255]\n",
      "  [255 255 255]]\n",
      "\n",
      " ...\n",
      "\n",
      " [[255 255 255]\n",
      "  [255 255 255]\n",
      "  [255 255 255]\n",
      "  ...\n",
      "  [255 255 255]\n",
      "  [255 255 255]\n",
      "  [255 255 255]]\n",
      "\n",
      " [[255 255 255]\n",
      "  [255 255 255]\n",
      "  [255 255 255]\n",
      "  ...\n",
      "  [255 255 255]\n",
      "  [255 255 255]\n",
      "  [255 255 255]]\n",
      "\n",
      " [[255 255 255]\n",
      "  [255 255 255]\n",
      "  [255 255 255]\n",
      "  ...\n",
      "  [255 255 255]\n",
      "  [255 255 255]\n",
      "  [255 255 255]]]\n"
     ]
    }
   ],
   "source": [
    "import numpy\n",
    "import matplotlib.pyplot as plt\n",
    "import cv2\n",
    "%matplotlib inline\n",
    "\n",
    "# 读取图片\n",
    "img = cv2.imread('dog.png')\n",
    "print(img)"
   ]
  },
  {
   "cell_type": "code",
   "execution_count": 16,
   "id": "47de7493-a58d-4a01-b206-6dd6160aa2c0",
   "metadata": {
    "collapsed": true,
    "jupyter": {
     "outputs_hidden": true,
     "source_hidden": true
    },
    "scrolled": true
   },
   "outputs": [
    {
     "data": {
      "text/plain": [
       "array([[[255, 255, 255],\n",
       "        [255, 255, 255],\n",
       "        [255, 255, 255],\n",
       "        ...,\n",
       "        [255, 255, 255],\n",
       "        [255, 255, 255],\n",
       "        [255, 255, 255]],\n",
       "\n",
       "       [[255, 255, 255],\n",
       "        [255, 255, 255],\n",
       "        [255, 255, 255],\n",
       "        ...,\n",
       "        [255, 255, 255],\n",
       "        [255, 255, 255],\n",
       "        [255, 255, 255]],\n",
       "\n",
       "       [[255, 255, 255],\n",
       "        [255, 255, 255],\n",
       "        [255, 255, 255],\n",
       "        ...,\n",
       "        [255, 255, 255],\n",
       "        [255, 255, 255],\n",
       "        [255, 255, 255]],\n",
       "\n",
       "       ...,\n",
       "\n",
       "       [[255, 255, 255],\n",
       "        [255, 255, 255],\n",
       "        [255, 255, 255],\n",
       "        ...,\n",
       "        [255, 255, 255],\n",
       "        [255, 255, 255],\n",
       "        [255, 255, 255]],\n",
       "\n",
       "       [[255, 255, 255],\n",
       "        [255, 255, 255],\n",
       "        [255, 255, 255],\n",
       "        ...,\n",
       "        [255, 255, 255],\n",
       "        [255, 255, 255],\n",
       "        [255, 255, 255]],\n",
       "\n",
       "       [[255, 255, 255],\n",
       "        [255, 255, 255],\n",
       "        [255, 255, 255],\n",
       "        ...,\n",
       "        [255, 255, 255],\n",
       "        [255, 255, 255],\n",
       "        [255, 255, 255]]], dtype=uint8)"
      ]
     },
     "execution_count": 16,
     "metadata": {},
     "output_type": "execute_result"
    }
   ],
   "source": [
    "img"
   ]
  },
  {
   "cell_type": "code",
   "execution_count": 5,
   "id": "ebea246e-ede3-44c2-80e9-2188899a3339",
   "metadata": {},
   "outputs": [],
   "source": [
    "def show_img(w_name, image):\n",
    "    cv2.imshow(w_name, image)\n",
    "    cv2.waitKey(0)\n",
    "    cv2.destroyAllWindows()\n",
    "show_img('small_dog', img)"
   ]
  },
  {
   "cell_type": "code",
   "execution_count": 4,
   "id": "722d4bfd-cf66-4bc0-a9bf-276014466321",
   "metadata": {},
   "outputs": [
    {
     "data": {
      "text/plain": [
       "(339, 421, 3)"
      ]
     },
     "execution_count": 4,
     "metadata": {},
     "output_type": "execute_result"
    }
   ],
   "source": [
    "# img的shape属性\n",
    "img.shape"
   ]
  },
  {
   "cell_type": "code",
   "execution_count": 15,
   "id": "0471c4b4-a3d8-4865-90bf-e7ff38c9c7c7",
   "metadata": {},
   "outputs": [],
   "source": [
    "# 读取为灰度图\n",
    "img_gray = cv2.imread('dog.png', cv2.IMREAD_GRAYSCALE)"
   ]
  },
  {
   "cell_type": "code",
   "execution_count": 9,
   "id": "3932eb0f-19cc-4abe-8628-cbff1f8c587d",
   "metadata": {},
   "outputs": [],
   "source": [
    "# 展示灰度图\n",
    "show_img('gray_dog', img_gray)"
   ]
  },
  {
   "cell_type": "code",
   "execution_count": 10,
   "id": "86b86662-c211-411a-925b-b319d63c4349",
   "metadata": {},
   "outputs": [
    {
     "data": {
      "text/plain": [
       "(339, 421)"
      ]
     },
     "execution_count": 10,
     "metadata": {},
     "output_type": "execute_result"
    }
   ],
   "source": [
    "# 查看灰度图的shape\n",
    "img_gray.shape"
   ]
  },
  {
   "cell_type": "code",
   "execution_count": 15,
   "id": "a8643750-0a12-406e-8729-c10b284ae62f",
   "metadata": {},
   "outputs": [
    {
     "data": {
      "text/plain": [
       "True"
      ]
     },
     "execution_count": 15,
     "metadata": {},
     "output_type": "execute_result"
    }
   ],
   "source": [
    "# 把灰度图保存到指定路径\n",
    "cv2.imwrite('gray_dog.png', img_gray)"
   ]
  },
  {
   "cell_type": "code",
   "execution_count": 16,
   "id": "08dc587a-286f-4c0e-aa18-0e8cee1fcc72",
   "metadata": {},
   "outputs": [
    {
     "data": {
      "text/plain": [
       "142719"
      ]
     },
     "execution_count": 16,
     "metadata": {},
     "output_type": "execute_result"
    }
   ],
   "source": [
    "img_gray.size"
   ]
  },
  {
   "cell_type": "code",
   "execution_count": 37,
   "id": "f18d42de-3280-4449-a236-0e2f389fc51f",
   "metadata": {},
   "outputs": [],
   "source": [
    "# 视频打开\n",
    "vc = cv2.VideoCapture('cxk.mp4')"
   ]
  },
  {
   "cell_type": "code",
   "execution_count": 38,
   "id": "a2b17f8e-8de3-402d-9207-809d329ab7f8",
   "metadata": {},
   "outputs": [],
   "source": [
    "while vc.isOpened():\n",
    "    is_open, frame = vc.read()\n",
    "    if is_open == False:\n",
    "        break\n",
    "    cv2.imshow('cxk', cv2.cvtColor(frame, cv2.COLOR_BGR2GRAY))\n",
    "    if (cv2.waitKey(10) & 0xFF) == 27:\n",
    "        break\n",
    "vc.release()\n",
    "cv2.destroyAllWindows()"
   ]
  },
  {
   "cell_type": "code",
   "execution_count": 40,
   "id": "cc9549b7-6ed8-4c35-a17e-444fd98856ee",
   "metadata": {},
   "outputs": [
    {
     "data": {
      "text/plain": [
       "array([[[255, 255, 255],\n",
       "        [255, 255, 255],\n",
       "        [255, 255, 255],\n",
       "        ...,\n",
       "        [255, 255, 255],\n",
       "        [255, 255, 255],\n",
       "        [255, 255, 255]],\n",
       "\n",
       "       [[255, 255, 255],\n",
       "        [255, 255, 255],\n",
       "        [255, 255, 255],\n",
       "        ...,\n",
       "        [255, 255, 255],\n",
       "        [255, 255, 255],\n",
       "        [255, 255, 255]],\n",
       "\n",
       "       [[255, 255, 255],\n",
       "        [255, 255, 255],\n",
       "        [255, 255, 255],\n",
       "        ...,\n",
       "        [255, 255, 255],\n",
       "        [255, 255, 255],\n",
       "        [255, 255, 255]],\n",
       "\n",
       "       ...,\n",
       "\n",
       "       [[255, 255, 255],\n",
       "        [255, 255, 255],\n",
       "        [255, 255, 255],\n",
       "        ...,\n",
       "        [255, 255, 255],\n",
       "        [255, 255, 255],\n",
       "        [255, 255, 255]],\n",
       "\n",
       "       [[255, 255, 255],\n",
       "        [255, 255, 255],\n",
       "        [255, 255, 255],\n",
       "        ...,\n",
       "        [255, 255, 255],\n",
       "        [255, 255, 255],\n",
       "        [255, 255, 255]],\n",
       "\n",
       "       [[255, 255, 255],\n",
       "        [255, 255, 255],\n",
       "        [255, 255, 255],\n",
       "        ...,\n",
       "        [255, 255, 255],\n",
       "        [255, 255, 255],\n",
       "        [255, 255, 255]]], dtype=uint8)"
      ]
     },
     "execution_count": 40,
     "metadata": {},
     "output_type": "execute_result"
    }
   ],
   "source": [
    "img"
   ]
  },
  {
   "cell_type": "code",
   "execution_count": 41,
   "id": "e473c242-acfe-4d4f-86b9-137e0df2dc24",
   "metadata": {},
   "outputs": [
    {
     "data": {
      "text/plain": [
       "(339, 421, 3)"
      ]
     },
     "execution_count": 41,
     "metadata": {},
     "output_type": "execute_result"
    }
   ],
   "source": [
    "img.shape"
   ]
  },
  {
   "cell_type": "code",
   "execution_count": 46,
   "id": "4baab0b9-8adb-435d-9abd-84c4a2b4c510",
   "metadata": {},
   "outputs": [],
   "source": [
    "show_img('region-test', img[100:300, 0:200])"
   ]
  },
  {
   "cell_type": "code",
   "execution_count": 3,
   "id": "d35a7ae3-6555-4107-867c-c1380de34829",
   "metadata": {},
   "outputs": [],
   "source": [
    "b,g,r = cv2.split(img)"
   ]
  },
  {
   "cell_type": "code",
   "execution_count": 48,
   "id": "99a74a1b-1809-4df1-ba96-21783b2215da",
   "metadata": {},
   "outputs": [
    {
     "data": {
      "text/plain": [
       "array([[255, 255, 255, ..., 255, 255, 255],\n",
       "       [255, 255, 255, ..., 255, 255, 255],\n",
       "       [255, 255, 255, ..., 255, 255, 255],\n",
       "       ...,\n",
       "       [255, 255, 255, ..., 255, 255, 255],\n",
       "       [255, 255, 255, ..., 255, 255, 255],\n",
       "       [255, 255, 255, ..., 255, 255, 255]], dtype=uint8)"
      ]
     },
     "execution_count": 48,
     "metadata": {},
     "output_type": "execute_result"
    }
   ],
   "source": [
    "b"
   ]
  },
  {
   "cell_type": "code",
   "execution_count": 49,
   "id": "c0e3a860-5fe7-450c-b734-6536b890b5f1",
   "metadata": {},
   "outputs": [],
   "source": [
    "img_c = img.copy()\n",
    "img_c[:,:,0] = 0\n",
    "img_c[:,:,1] = 0\n",
    "# 只保留r通道\n",
    "show_img('r', img_c)"
   ]
  },
  {
   "cell_type": "code",
   "execution_count": 11,
   "id": "52ce4b95-6feb-4d4d-87bb-5d1a8e0bb1a5",
   "metadata": {},
   "outputs": [],
   "source": [
    "img_merge = cv2.merge((b,g,r))\n",
    "# 只保留r通道\n",
    "show_img('merge-test', img_merge)"
   ]
  },
  {
   "cell_type": "code",
   "execution_count": 23,
   "id": "ef6b8a46-9fd2-48d1-b169-c36c9fb64c87",
   "metadata": {},
   "outputs": [],
   "source": [
    "show_img('make-border', cv2.copyMakeBorder(img_gray, 50,50,50,50,borderType=cv2.BORDER_WRAP))"
   ]
  },
  {
   "cell_type": "code",
   "execution_count": 33,
   "id": "618d09f1-2b3e-4d20-8a8c-85153cd39566",
   "metadata": {
    "collapsed": true,
    "jupyter": {
     "outputs_hidden": true
    },
    "scrolled": true
   },
   "outputs": [
    {
     "data": {
      "text/plain": [
       "array([[[124, 255, 255],\n",
       "        [128, 255, 255],\n",
       "        [130, 255, 255],\n",
       "        [132, 255, 255],\n",
       "        [132, 255, 255]],\n",
       "\n",
       "       [[124, 255, 255],\n",
       "        [126, 255, 255],\n",
       "        [128, 255, 255],\n",
       "        [130, 255, 255],\n",
       "        [130, 255, 255]],\n",
       "\n",
       "       [[124, 255, 255],\n",
       "        [124, 255, 255],\n",
       "        [126, 255, 255],\n",
       "        [128, 255, 255],\n",
       "        [128, 255, 255]],\n",
       "\n",
       "       [[122, 255, 255],\n",
       "        [124, 255, 255],\n",
       "        [126, 255, 255],\n",
       "        [128, 255, 255],\n",
       "        [126, 255, 255]],\n",
       "\n",
       "       [[122, 255, 255],\n",
       "        [124, 255, 255],\n",
       "        [126, 255, 255],\n",
       "        [128, 255, 255],\n",
       "        [126, 255, 255]],\n",
       "\n",
       "       [[122, 255, 255],\n",
       "        [124, 255, 255],\n",
       "        [126, 255, 255],\n",
       "        [128, 255, 255],\n",
       "        [124, 255, 255]],\n",
       "\n",
       "       [[122, 255, 255],\n",
       "        [124, 255, 255],\n",
       "        [126, 255, 255],\n",
       "        [128, 255, 255],\n",
       "        [124, 255, 255]],\n",
       "\n",
       "       [[122, 255, 255],\n",
       "        [124, 255, 255],\n",
       "        [126, 255, 255],\n",
       "        [126, 255, 255],\n",
       "        [122, 255, 255]],\n",
       "\n",
       "       [[124, 255, 255],\n",
       "        [126, 255, 255],\n",
       "        [126, 255, 255],\n",
       "        [128, 255, 255],\n",
       "        [122, 255, 255]],\n",
       "\n",
       "       [[122, 255, 255],\n",
       "        [124, 255, 255],\n",
       "        [128, 255, 255],\n",
       "        [128, 255, 255],\n",
       "        [124, 255, 255]],\n",
       "\n",
       "       [[120, 255, 255],\n",
       "        [124, 255, 255],\n",
       "        [128, 255, 255],\n",
       "        [128, 255, 255],\n",
       "        [124, 255, 255]],\n",
       "\n",
       "       [[120, 255, 255],\n",
       "        [124, 255, 255],\n",
       "        [126, 255, 255],\n",
       "        [130, 255, 255],\n",
       "        [128, 255, 255]],\n",
       "\n",
       "       [[120, 255, 255],\n",
       "        [124, 255, 255],\n",
       "        [128, 255, 255],\n",
       "        [130, 255, 255],\n",
       "        [130, 255, 255]],\n",
       "\n",
       "       [[122, 255, 255],\n",
       "        [126, 255, 255],\n",
       "        [128, 255, 255],\n",
       "        [128, 255, 255],\n",
       "        [130, 255, 255]],\n",
       "\n",
       "       [[122, 255, 255],\n",
       "        [126, 255, 255],\n",
       "        [126, 255, 255],\n",
       "        [128, 255, 255],\n",
       "        [130, 255, 255]]], dtype=uint8)"
      ]
     },
     "execution_count": 33,
     "metadata": {},
     "output_type": "execute_result"
    }
   ],
   "source": [
    "img1 = img[50:65, 60:65]\n",
    "img2 = img[50:65, 60:65]\n",
    "cv2.add(img1, img2)"
   ]
  },
  {
   "cell_type": "code",
   "execution_count": 34,
   "id": "65b8fd48-1e6a-4ec3-809e-c555fc7251a9",
   "metadata": {},
   "outputs": [
    {
     "data": {
      "text/plain": [
       "(339, 421, 3)"
      ]
     },
     "execution_count": 34,
     "metadata": {},
     "output_type": "execute_result"
    }
   ],
   "source": [
    "img.shape"
   ]
  },
  {
   "cell_type": "code",
   "execution_count": 35,
   "id": "77b58a7c-2b2d-471d-a861-2ae661d2c163",
   "metadata": {},
   "outputs": [],
   "source": [
    "img2 = cv2.imread('cat.png')"
   ]
  },
  {
   "cell_type": "code",
   "execution_count": 36,
   "id": "5c3ea740-a5f1-4589-a00a-0afeca49a451",
   "metadata": {},
   "outputs": [
    {
     "data": {
      "text/plain": [
       "(319, 359, 3)"
      ]
     },
     "execution_count": 36,
     "metadata": {},
     "output_type": "execute_result"
    }
   ],
   "source": [
    "img2.shape"
   ]
  },
  {
   "cell_type": "code",
   "execution_count": 51,
   "id": "d1ccff89-4b4d-4c4a-9746-99e605c4e5b2",
   "metadata": {},
   "outputs": [],
   "source": [
    "img2 = cv2.resize(img2, (0, 0), fx=3, fy = 2)"
   ]
  },
  {
   "cell_type": "code",
   "execution_count": 52,
   "id": "d248497c-e956-4231-9dbf-f3f38072e25f",
   "metadata": {},
   "outputs": [
    {
     "data": {
      "text/plain": [
       "(678, 1263, 3)"
      ]
     },
     "execution_count": 52,
     "metadata": {},
     "output_type": "execute_result"
    }
   ],
   "source": [
    "img2.shape"
   ]
  },
  {
   "cell_type": "code",
   "execution_count": 53,
   "id": "51236151-01c4-4a01-9618-d0236875c0c8",
   "metadata": {},
   "outputs": [],
   "source": [
    "show_img('resize_cat', img2)"
   ]
  },
  {
   "cell_type": "code",
   "execution_count": 49,
   "id": "3de6726e-54b9-43f5-8faa-e55987cace47",
   "metadata": {},
   "outputs": [],
   "source": [
    "res = cv2.addWeighted(img, 0.5, img2, 0.5, 0)"
   ]
  },
  {
   "cell_type": "code",
   "execution_count": 50,
   "id": "3a072bc3-e104-449a-846f-13f247bf2b4b",
   "metadata": {},
   "outputs": [],
   "source": [
    "show_img('res', res)"
   ]
  },
  {
   "cell_type": "code",
   "execution_count": null,
   "id": "b9a97b37-c799-4333-a7bd-56eb936b5165",
   "metadata": {},
   "outputs": [],
   "source": []
  }
 ],
 "metadata": {
  "kernelspec": {
   "display_name": "Python 3 (ipykernel)",
   "language": "python",
   "name": "python3"
  },
  "language_info": {
   "codemirror_mode": {
    "name": "ipython",
    "version": 3
   },
   "file_extension": ".py",
   "mimetype": "text/x-python",
   "name": "python",
   "nbconvert_exporter": "python",
   "pygments_lexer": "ipython3",
   "version": "3.13.5"
  }
 },
 "nbformat": 4,
 "nbformat_minor": 5
}
